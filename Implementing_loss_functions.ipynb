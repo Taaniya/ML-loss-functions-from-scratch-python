{
  "nbformat": 4,
  "nbformat_minor": 0,
  "metadata": {
    "colab": {
      "name": "Implementing_loss_functions.ipynb",
      "provenance": [],
      "collapsed_sections": []
    },
    "kernelspec": {
      "name": "python3",
      "display_name": "Python 3"
    }
  },
  "cells": [
    {
      "cell_type": "code",
      "metadata": {
        "id": "fI3RgGm3o03s"
      },
      "source": [
        "import tensorflow as tf\r\n",
        "import numpy as np"
      ],
      "execution_count": 4,
      "outputs": []
    },
    {
      "cell_type": "markdown",
      "metadata": {
        "id": "NOQhCZ97n6kT"
      },
      "source": [
        "### 1. Categorical cross entropy\r\n",
        "\r\n",
        "CE = - $\\sum_i^C t_ilog(pred_i)$\r\n",
        "\r\n",
        "\r\n"
      ]
    },
    {
      "cell_type": "code",
      "metadata": {
        "id": "7bLNEmMjn3Yz"
      },
      "source": [
        "# Total classes 3\r\n",
        "y_true = [[0,1,0],[0,0,1]]                      # Target is represented in one-hot-encoded form\r\n",
        "y_pred = [[0.05, 0.95, 0], [0.1, 0.8, 0.1]]"
      ],
      "execution_count": 55,
      "outputs": []
    },
    {
      "cell_type": "code",
      "metadata": {
        "id": "hlctdrSUpP1C"
      },
      "source": [
        "def computeCrossEntropy(y_true, y_pred, reduce='sum'):\r\n",
        "  batch_size = len(y_true)\r\n",
        "  loss = []\r\n",
        "  for i in range(batch_size):\r\n",
        "    for label_index in range(len(y_true[i])):\r\n",
        "      sample_loss = - (y_true[i][label_index] * np.log(y_pred[i][label_index]) )\r\n",
        "      loss.append(sample_loss)\r\n",
        "  loss = np.nansum(loss)\r\n",
        "  \r\n",
        "  if reduce == 'sum':\r\n",
        "    return loss\r\n",
        "\r\n",
        "  elif reduce == 'avg':\r\n",
        "    return loss / batch_size"
      ],
      "execution_count": 78,
      "outputs": []
    },
    {
      "cell_type": "code",
      "metadata": {
        "colab": {
          "base_uri": "https://localhost:8080/"
        },
        "id": "VKe4acs1qXRp",
        "outputId": "6637c9d1-6040-4967-e566-9b95a921e5e7"
      },
      "source": [
        "computeCrossEntropy(y_true, y_pred, reduce='sum')"
      ],
      "execution_count": 80,
      "outputs": [
        {
          "output_type": "stream",
          "text": [
            "/usr/local/lib/python3.6/dist-packages/ipykernel_launcher.py:6: RuntimeWarning: divide by zero encountered in log\n",
            "  \n",
            "/usr/local/lib/python3.6/dist-packages/ipykernel_launcher.py:6: RuntimeWarning: invalid value encountered in double_scalars\n",
            "  \n"
          ],
          "name": "stderr"
        },
        {
          "output_type": "execute_result",
          "data": {
            "text/plain": [
              "2.353878387381596"
            ]
          },
          "metadata": {
            "tags": []
          },
          "execution_count": 80
        }
      ]
    },
    {
      "cell_type": "code",
      "metadata": {
        "colab": {
          "base_uri": "https://localhost:8080/"
        },
        "id": "OGu37mWTqiGW",
        "outputId": "80400dc1-164e-4bdd-cfa9-d3b0566661b0"
      },
      "source": [
        "scce = tf.keras.losses.CategoricalCrossentropy(from_logits=False, reduction=tf.keras.losses.Reduction.SUM)\r\n",
        "scce(y_true, y_pred).numpy()"
      ],
      "execution_count": 81,
      "outputs": [
        {
          "output_type": "execute_result",
          "data": {
            "text/plain": [
              "2.3538785"
            ]
          },
          "metadata": {
            "tags": []
          },
          "execution_count": 81
        }
      ]
    },
    {
      "cell_type": "code",
      "metadata": {
        "colab": {
          "base_uri": "https://localhost:8080/"
        },
        "id": "knm3CDygqrQd",
        "outputId": "aa5b99ea-64ee-4fc4-9f7a-e9d6ce3f6216"
      },
      "source": [
        "computeCrossEntropy(y_true, y_pred, reduce='avg')"
      ],
      "execution_count": 82,
      "outputs": [
        {
          "output_type": "stream",
          "text": [
            "/usr/local/lib/python3.6/dist-packages/ipykernel_launcher.py:6: RuntimeWarning: divide by zero encountered in log\n",
            "  \n",
            "/usr/local/lib/python3.6/dist-packages/ipykernel_launcher.py:6: RuntimeWarning: invalid value encountered in double_scalars\n",
            "  \n"
          ],
          "name": "stderr"
        },
        {
          "output_type": "execute_result",
          "data": {
            "text/plain": [
              "1.176939193690798"
            ]
          },
          "metadata": {
            "tags": []
          },
          "execution_count": 82
        }
      ]
    },
    {
      "cell_type": "code",
      "metadata": {
        "colab": {
          "base_uri": "https://localhost:8080/"
        },
        "id": "lLgC-73OsnN_",
        "outputId": "6a99387a-dd11-4042-81c2-ae51989c0588"
      },
      "source": [
        "scce = tf.keras.losses.CategoricalCrossentropy(from_logits=False, reduction=tf.keras.losses.Reduction.SUM_OVER_BATCH_SIZE)\r\n",
        "scce(y_true, y_pred).numpy()"
      ],
      "execution_count": 83,
      "outputs": [
        {
          "output_type": "execute_result",
          "data": {
            "text/plain": [
              "1.1769392"
            ]
          },
          "metadata": {
            "tags": []
          },
          "execution_count": 83
        }
      ]
    },
    {
      "cell_type": "markdown",
      "metadata": {
        "id": "BuqF5XI0uNdI"
      },
      "source": [
        "2. Sparse Categorical Entropy Loss\r\n",
        "\r\n"
      ]
    },
    {
      "cell_type": "code",
      "metadata": {
        "id": "WnHb7pdDuW4e"
      },
      "source": [
        "y_true = [1, 2]                                  # Target label represented as integers. shape = (batch_size)\r\n",
        "y_pred = [[0.05, 0.95, 0], [0.1, 0.8, 0.1]]      # shape = (batch_size, num_classes)"
      ],
      "execution_count": 39,
      "outputs": []
    },
    {
      "cell_type": "code",
      "metadata": {
        "colab": {
          "base_uri": "https://localhost:8080/"
        },
        "id": "62DSEjuiunLo",
        "outputId": "b8e3a804-60d1-4e32-e018-08dac31e4719"
      },
      "source": [
        "y_true[1]"
      ],
      "execution_count": 42,
      "outputs": [
        {
          "output_type": "execute_result",
          "data": {
            "text/plain": [
              "2"
            ]
          },
          "metadata": {
            "tags": []
          },
          "execution_count": 42
        }
      ]
    },
    {
      "cell_type": "code",
      "metadata": {
        "id": "UL7yfBvbuiGz"
      },
      "source": [
        "def computeSparseCategoricalCrossEntropy(y_true, y_pred, reduce='sum'):\r\n",
        "  loss = []\r\n",
        "  for i in range(len(y_true)):\r\n",
        "    label_index = y_true[i]\r\n",
        "    sample_loss = - np.log(y_pred[i][label_index]) \r\n",
        "    loss.append(sample_loss)\r\n",
        "\r\n",
        "  if reduce == 'sum':\r\n",
        "    return np.nansum(loss)\r\n",
        "\r\n",
        "  elif reduce == 'avg':\r\n",
        "    return np.mean(loss)"
      ],
      "execution_count": 47,
      "outputs": []
    },
    {
      "cell_type": "code",
      "metadata": {
        "colab": {
          "base_uri": "https://localhost:8080/"
        },
        "id": "SUGyKpLKulhh",
        "outputId": "f2da1e76-cca9-42a2-9545-6523d35407d3"
      },
      "source": [
        "computeSparseCategoricalCrossEntropy(y_true, y_pred, reduce='avg')"
      ],
      "execution_count": 50,
      "outputs": [
        {
          "output_type": "execute_result",
          "data": {
            "text/plain": [
              "1.176939193690798"
            ]
          },
          "metadata": {
            "tags": []
          },
          "execution_count": 50
        }
      ]
    },
    {
      "cell_type": "code",
      "metadata": {
        "colab": {
          "base_uri": "https://localhost:8080/"
        },
        "id": "X6hLES5ru14k",
        "outputId": "d06c07de-f15d-4f98-cf1b-274963278714"
      },
      "source": [
        "scce = tf.keras.losses.SparseCategoricalCrossentropy()\r\n",
        "scce(y_true, y_pred).numpy()\r\n"
      ],
      "execution_count": 51,
      "outputs": [
        {
          "output_type": "execute_result",
          "data": {
            "text/plain": [
              "1.1769392"
            ]
          },
          "metadata": {
            "tags": []
          },
          "execution_count": 51
        }
      ]
    },
    {
      "cell_type": "code",
      "metadata": {
        "colab": {
          "base_uri": "https://localhost:8080/"
        },
        "id": "m0aqMkwqu7Wp",
        "outputId": "f897287e-fea3-46c0-a322-6788a5c94723"
      },
      "source": [
        "computeSparseCategoricalCrossEntropy(y_true, y_pred, reduce='sum')"
      ],
      "execution_count": 52,
      "outputs": [
        {
          "output_type": "execute_result",
          "data": {
            "text/plain": [
              "2.353878387381596"
            ]
          },
          "metadata": {
            "tags": []
          },
          "execution_count": 52
        }
      ]
    },
    {
      "cell_type": "code",
      "metadata": {
        "colab": {
          "base_uri": "https://localhost:8080/"
        },
        "id": "AZ7h7fb1vY5a",
        "outputId": "b81dcbc3-3b07-497e-bd8f-a6a98f38ab83"
      },
      "source": [
        "scce = tf.keras.losses.SparseCategoricalCrossentropy(reduction=tf.keras.losses.Reduction.SUM)\r\n",
        "scce(y_true, y_pred).numpy()\r\n"
      ],
      "execution_count": 53,
      "outputs": [
        {
          "output_type": "execute_result",
          "data": {
            "text/plain": [
              "2.3538785"
            ]
          },
          "metadata": {
            "tags": []
          },
          "execution_count": 53
        }
      ]
    }
  ]
}